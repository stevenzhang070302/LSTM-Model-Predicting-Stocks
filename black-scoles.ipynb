{
 "cells": [
  {
   "cell_type": "markdown",
   "metadata": {},
   "source": [
    "## Black Scholes Implementation in Python"
   ]
  },
  {
   "cell_type": "code",
   "execution_count": 19,
   "metadata": {},
   "outputs": [],
   "source": [
    "# Dependencies\n",
    "import scipy\n",
    "from math import log, sqrt, exp, pi\n",
    "import numpy"
   ]
  },
  {
   "cell_type": "code",
   "execution_count": 20,
   "metadata": {},
   "outputs": [],
   "source": [
    "# Culmulative Normal Ditribution\n",
    "def CND(X):\n",
    "    (a1, a2, a3, a4, a5) = (0.31938153, -0.356563782, 1.781477937, -1.821255978, 1.330274429)\n",
    "    L = abs(X)\n",
    "    K = 1.0/(1.0 + 0.2316419 * L)\n",
    "    w = 1.0 - 1.0/sqrt(2*pi)*exp(-L*L/2.0) * (a1*K + a2*K*K + a3*pow(K,3) + a4*pow(K,4) + a5*pow(K,5))\n",
    "    if X < 0:\n",
    "        w = 1.0 - w\n",
    "    return w "
   ]
  },
  {
   "cell_type": "code",
   "execution_count": 21,
   "metadata": {},
   "outputs": [],
   "source": [
    "# Black Scoles Function\n",
    "def BlackScholes(CallPutFlag, S, X, T, r, v):\n",
    "    d1 = (log(S/X) + (r+v*v/2.0)*T)/(v*sqrt(T))\n",
    "    d2 = d1 - v*sqrt(T)\n",
    "    if CallPutFlag == 'c':\n",
    "        return S*CND(d1) - X*exp(-r*T) * CND(d2)\n",
    "    else:\n",
    "        return X*exp(-r*T)* CND(-d2)-S*CND(-d1) "
   ]
  },
  {
   "cell_type": "code",
   "execution_count": 31,
   "metadata": {},
   "outputs": [
    {
     "name": "stdout",
     "output_type": "stream",
     "text": [
      "Price of call: \n"
     ]
    },
    {
     "data": {
      "text/plain": [
       "95.92000200000004"
      ]
     },
     "execution_count": 31,
     "metadata": {},
     "output_type": "execute_result"
    }
   ],
   "source": [
    "# Example Run for Random Stock Call\n",
    "CallPutFlag = 'c' # Call\n",
    "S = 295.92 # Stock Price\n",
    "X = 200 # Strike price ***\n",
    "T = 0.1 # Time till option expires\n",
    "r = 0.1 # Risk Free Rate ***\n",
    "v = 0.1 # Volatility ***\n",
    "print(\"Price of call: \") \n",
    "BlackScholes(CallPutFlag, S, X, T, r, v)"
   ]
  },
  {
   "cell_type": "code",
   "execution_count": 33,
   "metadata": {},
   "outputs": [
    {
     "name": "stdout",
     "output_type": "stream",
     "text": [
      "Price of call: \n"
     ]
    },
    {
     "data": {
      "text/plain": [
       "56.53774084249915"
      ]
     },
     "execution_count": 33,
     "metadata": {},
     "output_type": "execute_result"
    }
   ],
   "source": [
    "# Example Run for Random Stock Put\n",
    "CallPutFlag = 'p' # Call\n",
    "S = 295.92 # Stock Price\n",
    "X = 356 # Strike price ***\n",
    "T = 0.1 # Time till option expires\n",
    "r = 0.1 # Risk Free Rate ***\n",
    "v = 0.1 # Volatility ***\n",
    "print(\"Price of call: \") \n",
    "BlackScholes(CallPutFlag, S, X, T, r, v)"
   ]
  },
  {
   "cell_type": "markdown",
   "metadata": {},
   "source": [
    "# Improvements\n",
    "1. Understand Black Scholes Model\n",
    "2. Automate the process to continually find options prices\n",
    "3. Comparing results to actual prices to see how accurate\n",
    "4. Modeling/What can I do if I can predict Options Prices Now"
   ]
  }
 ],
 "metadata": {
  "interpreter": {
   "hash": "582296f84aac35676d48f873b0016f7ea59eaa42b87f7345a0b548322594b08f"
  },
  "kernelspec": {
   "display_name": "Python 3.9.7 ('base')",
   "language": "python",
   "name": "python3"
  },
  "language_info": {
   "codemirror_mode": {
    "name": "ipython",
    "version": 3
   },
   "file_extension": ".py",
   "mimetype": "text/x-python",
   "name": "python",
   "nbconvert_exporter": "python",
   "pygments_lexer": "ipython3",
   "version": "3.9.7"
  },
  "orig_nbformat": 4
 },
 "nbformat": 4,
 "nbformat_minor": 2
}
