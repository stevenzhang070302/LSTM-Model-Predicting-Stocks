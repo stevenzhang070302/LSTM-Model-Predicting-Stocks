{
 "cells": [
  {
   "cell_type": "markdown",
   "metadata": {},
   "source": [
    "# Stock Price Predictions using Time Series/LSTM"
   ]
  },
  {
   "cell_type": "markdown",
   "metadata": {},
   "source": [
    "Summary: Predicting the 51st Stock Open Price Based on the previous 50 Stock Open Prices"
   ]
  },
  {
   "cell_type": "markdown",
   "metadata": {},
   "source": [
    "Import Dependencies/Packages"
   ]
  },
  {
   "cell_type": "code",
   "execution_count": 33,
   "metadata": {},
   "outputs": [
    {
     "data": {
      "text/plain": [
       "'2.10.1'"
      ]
     },
     "execution_count": 33,
     "metadata": {},
     "output_type": "execute_result"
    }
   ],
   "source": [
    "# Packages\n",
    "import numpy as np\n",
    "import pandas as pd\n",
    "import matplotlib.pyplot as plt\n",
    "%matplotlib inline\n",
    "from sklearn.preprocessing import MinMaxScaler\n",
    "from tensorflow.keras.models import Sequential, load_model\n",
    "from tensorflow.keras.layers import LSTM, Bidirectional, Dense, Dropout\n",
    "import os\n",
    "import tensorflow as tf\n",
    "tf.__version__"
   ]
  },
  {
   "cell_type": "code",
   "execution_count": 34,
   "metadata": {},
   "outputs": [
    {
     "name": "stdout",
     "output_type": "stream",
     "text": [
      "[name: \"/device:CPU:0\"\n",
      "device_type: \"CPU\"\n",
      "memory_limit: 268435456\n",
      "locality {\n",
      "}\n",
      "incarnation: 14033498341017055990\n",
      "xla_global_id: -1\n",
      ", name: \"/device:GPU:0\"\n",
      "device_type: \"GPU\"\n",
      "memory_limit: 2236245607\n",
      "locality {\n",
      "  bus_id: 1\n",
      "  links {\n",
      "  }\n",
      "}\n",
      "incarnation: 11374389985188343372\n",
      "physical_device_desc: \"device: 0, name: NVIDIA GeForce GTX 1650, pci bus id: 0000:01:00.0, compute capability: 7.5\"\n",
      "xla_global_id: 416903419\n",
      "]\n"
     ]
    }
   ],
   "source": [
    "# Checking if GPU is Registered\n",
    "from tensorflow.python.client import device_lib \n",
    "print(device_lib.list_local_devices())"
   ]
  },
  {
   "cell_type": "code",
   "execution_count": 35,
   "metadata": {},
   "outputs": [],
   "source": [
    "# Configuring GPU for Training(Memory Issue)\n",
    "gpu_devices = tf.config.experimental.list_physical_devices(\"GPU\")\n",
    "for device in gpu_devices:\n",
    "    tf.config.experimental.set_memory_growth(device, True)"
   ]
  },
  {
   "cell_type": "markdown",
   "metadata": {},
   "source": [
    "Importing the Dataset"
   ]
  },
  {
   "cell_type": "code",
   "execution_count": 36,
   "metadata": {},
   "outputs": [
    {
     "data": {
      "text/html": [
       "<div>\n",
       "<style scoped>\n",
       "    .dataframe tbody tr th:only-of-type {\n",
       "        vertical-align: middle;\n",
       "    }\n",
       "\n",
       "    .dataframe tbody tr th {\n",
       "        vertical-align: top;\n",
       "    }\n",
       "\n",
       "    .dataframe thead th {\n",
       "        text-align: right;\n",
       "    }\n",
       "</style>\n",
       "<table border=\"1\" class=\"dataframe\">\n",
       "  <thead>\n",
       "    <tr style=\"text-align: right;\">\n",
       "      <th></th>\n",
       "      <th>date</th>\n",
       "      <th>open</th>\n",
       "      <th>high</th>\n",
       "      <th>low</th>\n",
       "      <th>close</th>\n",
       "      <th>volume</th>\n",
       "      <th>Name</th>\n",
       "    </tr>\n",
       "  </thead>\n",
       "  <tbody>\n",
       "    <tr>\n",
       "      <th>0</th>\n",
       "      <td>2013-02-08</td>\n",
       "      <td>67.7142</td>\n",
       "      <td>68.4014</td>\n",
       "      <td>66.8928</td>\n",
       "      <td>67.8542</td>\n",
       "      <td>158168416</td>\n",
       "      <td>AAPL</td>\n",
       "    </tr>\n",
       "    <tr>\n",
       "      <th>1</th>\n",
       "      <td>2013-02-11</td>\n",
       "      <td>68.0714</td>\n",
       "      <td>69.2771</td>\n",
       "      <td>67.6071</td>\n",
       "      <td>68.5614</td>\n",
       "      <td>129029425</td>\n",
       "      <td>AAPL</td>\n",
       "    </tr>\n",
       "    <tr>\n",
       "      <th>2</th>\n",
       "      <td>2013-02-12</td>\n",
       "      <td>68.5014</td>\n",
       "      <td>68.9114</td>\n",
       "      <td>66.8205</td>\n",
       "      <td>66.8428</td>\n",
       "      <td>151829363</td>\n",
       "      <td>AAPL</td>\n",
       "    </tr>\n",
       "    <tr>\n",
       "      <th>3</th>\n",
       "      <td>2013-02-13</td>\n",
       "      <td>66.7442</td>\n",
       "      <td>67.6628</td>\n",
       "      <td>66.1742</td>\n",
       "      <td>66.7156</td>\n",
       "      <td>118721995</td>\n",
       "      <td>AAPL</td>\n",
       "    </tr>\n",
       "    <tr>\n",
       "      <th>4</th>\n",
       "      <td>2013-02-14</td>\n",
       "      <td>66.3599</td>\n",
       "      <td>67.3771</td>\n",
       "      <td>66.2885</td>\n",
       "      <td>66.6556</td>\n",
       "      <td>88809154</td>\n",
       "      <td>AAPL</td>\n",
       "    </tr>\n",
       "  </tbody>\n",
       "</table>\n",
       "</div>"
      ],
      "text/plain": [
       "         date     open     high      low    close     volume  Name\n",
       "0  2013-02-08  67.7142  68.4014  66.8928  67.8542  158168416  AAPL\n",
       "1  2013-02-11  68.0714  69.2771  67.6071  68.5614  129029425  AAPL\n",
       "2  2013-02-12  68.5014  68.9114  66.8205  66.8428  151829363  AAPL\n",
       "3  2013-02-13  66.7442  67.6628  66.1742  66.7156  118721995  AAPL\n",
       "4  2013-02-14  66.3599  67.3771  66.2885  66.6556   88809154  AAPL"
      ]
     },
     "execution_count": 36,
     "metadata": {},
     "output_type": "execute_result"
    }
   ],
   "source": [
    "stock_data = pd.read_csv(r\"C:\\Users\\steve\\Documents\\AlgoTrading\\(LSTM)Neural Networks for Sentiment and Stock Price Prediction\\AAPL.csv\")\n",
    "stock_data.head()"
   ]
  },
  {
   "cell_type": "markdown",
   "metadata": {},
   "source": [
    "Preprocess our data"
   ]
  },
  {
   "cell_type": "code",
   "execution_count": 37,
   "metadata": {},
   "outputs": [
    {
     "name": "stdout",
     "output_type": "stream",
     "text": [
      "(1259, 1)\n"
     ]
    },
    {
     "data": {
      "text/plain": [
       "array([[67.7142],\n",
       "       [68.0714],\n",
       "       [68.5014],\n",
       "       [66.7442],\n",
       "       [66.3599],\n",
       "       [66.9785],\n",
       "       [65.8714]])"
      ]
     },
     "execution_count": 37,
     "metadata": {},
     "output_type": "execute_result"
    }
   ],
   "source": [
    "# Using only the Open Column\n",
    "stock_data = stock_data['open'].values # Gives a Series of the Pandas Dataframe\n",
    "stock_data = stock_data.reshape(-1, 1) # -1 refers to the 1259, reshaping to 1259,1\n",
    "print(stock_data.shape)\n",
    "stock_data[:7]"
   ]
  },
  {
   "cell_type": "markdown",
   "metadata": {},
   "source": [
    "Train/Test Split"
   ]
  },
  {
   "cell_type": "code",
   "execution_count": 38,
   "metadata": {},
   "outputs": [],
   "source": [
    "train_data = np.array(stock_data[:int(stock_data.shape[0]*0.7)]) # 0:881\n",
    "test_data = np.array(stock_data[int(stock_data.shape[0]*0.7)-50:]) # 831:1258\n",
    "# Splitting data into train and test"
   ]
  },
  {
   "cell_type": "code",
   "execution_count": 39,
   "metadata": {},
   "outputs": [
    {
     "data": {
      "text/plain": [
       "(428, 1)"
      ]
     },
     "execution_count": 39,
     "metadata": {},
     "output_type": "execute_result"
    }
   ],
   "source": [
    "test_data.shape"
   ]
  },
  {
   "cell_type": "markdown",
   "metadata": {},
   "source": [
    "Scaling the Data"
   ]
  },
  {
   "cell_type": "code",
   "execution_count": 40,
   "metadata": {},
   "outputs": [],
   "source": [
    "# MinMaxScaler\n",
    "scaler = MinMaxScaler(feature_range=(0, 1))\n",
    "train_data = scaler.fit_transform(train_data)\n",
    "test_data = scaler.transform(test_data)"
   ]
  },
  {
   "cell_type": "code",
   "execution_count": 41,
   "metadata": {},
   "outputs": [
    {
     "data": {
      "text/plain": [
       "array([[0.15550899],\n",
       "       [0.16002875],\n",
       "       [0.16546966],\n",
       "       [0.1432353 ],\n",
       "       [0.13837263]])"
      ]
     },
     "execution_count": 41,
     "metadata": {},
     "output_type": "execute_result"
    }
   ],
   "source": [
    "train_data[:5]"
   ]
  },
  {
   "cell_type": "code",
   "execution_count": 42,
   "metadata": {},
   "outputs": [
    {
     "data": {
      "text/plain": [
       "array([[0.55694489],\n",
       "       [0.55896941],\n",
       "       [0.5516305 ],\n",
       "       [0.53366283],\n",
       "       [0.53606695]])"
      ]
     },
     "execution_count": 42,
     "metadata": {},
     "output_type": "execute_result"
    }
   ],
   "source": [
    "test_data[:5]"
   ]
  },
  {
   "cell_type": "markdown",
   "metadata": {},
   "source": [
    "Creating a Structure split the data to X, Y or Feature, Labels"
   ]
  },
  {
   "cell_type": "code",
   "execution_count": 43,
   "metadata": {},
   "outputs": [],
   "source": [
    "# x represents the 50 previous data/Open Prices\n",
    "# y represents the 51st data/Open Prices\n",
    "# We are predicting the 51st data point based on the last 50 data points  \n",
    "def create_dataset(df):\n",
    "    x = []\n",
    "    y = []\n",
    "    for i in range(50, df.shape[0]):\n",
    "        x.append(df[i-50:i, 0])\n",
    "        y.append(df[i,0])\n",
    "    x = np.array(x)\n",
    "    y = np.array(y)\n",
    "    return x, y\n",
    "    "
   ]
  },
  {
   "cell_type": "code",
   "execution_count": 44,
   "metadata": {},
   "outputs": [
    {
     "data": {
      "text/plain": [
       "array([[0.15550899, 0.16002875, 0.16546966, 0.1432353 , 0.13837263,\n",
       "        0.14619996, 0.1321915 , 0.12602681, 0.10489581, 0.11077074,\n",
       "        0.11908522, 0.10095558, 0.10928904, 0.10137187, 0.09043563,\n",
       "        0.07199725, 0.06057385, 0.08412669, 0.06603248, 0.07561229,\n",
       "        0.07552245, 0.08609681, 0.07317274, 0.0810899 , 0.09030909,\n",
       "        0.09667117, 0.12929896, 0.1255384 , 0.11252448, 0.12040496,\n",
       "        0.13868011, 0.14003654, 0.12380363, 0.11180072, 0.09748478,\n",
       "        0.07163663, 0.07845043, 0.08277153, 0.06603248, 0.06666515,\n",
       "        0.06939446, 0.07254007, 0.08269814, 0.08347632, 0.07055098,\n",
       "        0.06073581, 0.0583861 , 0.03076649, 0.        , 0.00844228]])"
      ]
     },
     "execution_count": 44,
     "metadata": {},
     "output_type": "execute_result"
    }
   ],
   "source": [
    "# Splitting the Train/Test Dataset to X and Y\n",
    "x_train, y_train = create_dataset(train_data)\n",
    "x_train[:1] "
   ]
  },
  {
   "cell_type": "code",
   "execution_count": 45,
   "metadata": {},
   "outputs": [
    {
     "data": {
      "text/plain": [
       "(1, 50)"
      ]
     },
     "execution_count": 45,
     "metadata": {},
     "output_type": "execute_result"
    }
   ],
   "source": [
    "x_train[:1].shape"
   ]
  },
  {
   "cell_type": "code",
   "execution_count": 46,
   "metadata": {},
   "outputs": [
    {
     "data": {
      "text/plain": [
       "array([[0.55694489, 0.55896941, 0.5516305 , 0.53366283, 0.53606695,\n",
       "        0.53859761, 0.55454076, 0.5516305 , 0.54505079, 0.54543039,\n",
       "        0.54745492, 0.5301199 , 0.53644655, 0.51911154, 0.5212626 ,\n",
       "        0.51341755, 0.50000506, 0.51658088, 0.51265836, 0.47431887,\n",
       "        0.47545767, 0.47419234, 0.48773137, 0.49367841, 0.50696437,\n",
       "        0.50569904, 0.49570294, 0.50962157, 0.51961767, 0.52290752,\n",
       "        0.52822191, 0.5312587 , 0.53100563, 0.55036517, 0.54758145,\n",
       "        0.55846328, 0.56403073, 0.56187967, 0.55466729, 0.54188747,\n",
       "        0.52379326, 0.61799703, 0.59983956, 0.61704804, 0.61983176,\n",
       "        0.64058317, 0.62489308, 0.63463612, 0.64336689, 0.65918351]])"
      ]
     },
     "execution_count": 46,
     "metadata": {},
     "output_type": "execute_result"
    }
   ],
   "source": [
    "x_test, y_test = create_dataset(test_data)\n",
    "x_test[:1]"
   ]
  },
  {
   "cell_type": "code",
   "execution_count": 47,
   "metadata": {},
   "outputs": [
    {
     "data": {
      "text/plain": [
       "(1, 50)"
      ]
     },
     "execution_count": 47,
     "metadata": {},
     "output_type": "execute_result"
    }
   ],
   "source": [
    "x_test[:1].shape"
   ]
  },
  {
   "cell_type": "code",
   "execution_count": 48,
   "metadata": {},
   "outputs": [
    {
     "name": "stdout",
     "output_type": "stream",
     "text": [
      "(831, 50, 1)\n",
      "(378, 50, 1)\n"
     ]
    }
   ],
   "source": [
    "# Reshaping the data\n",
    "#x_train.shape # We need 831, 50, 1\n",
    "#y_train.shape # (831, )\n",
    "x_train = np.reshape(x_train,(x_train.shape[0], x_train.shape[1], 1))\n",
    "print(x_train.shape)\n",
    "x_test = np.reshape(x_test, (x_test.shape[0], x_test.shape[1], 1))\n",
    "print(x_test.shape)"
   ]
  },
  {
   "cell_type": "markdown",
   "metadata": {},
   "source": [
    "Creating the Model"
   ]
  },
  {
   "cell_type": "code",
   "execution_count": 49,
   "metadata": {},
   "outputs": [],
   "source": [
    "# Create Model Sequence\n",
    "model = Sequential()\n",
    "model.add(LSTM(units = 512, return_sequences=True, input_shape = (x_train.shape[1], 1))) #Return Sequences means we can stack another LSTM layer\n",
    "# Input shape: 50 Time Steps, 1 features(Open Price only)\n",
    "model.add(Dropout(0.2))\n",
    "model.add(LSTM(units = 256, return_sequences = True))\n",
    "model.add(Dropout(0.2))\n",
    "model.add(LSTM(units= 64))\n",
    "model.add(Dropout(0.15))\n",
    "model.add(Dense(units = 1)) # One Output: Predicted 51st Stock Price"
   ]
  },
  {
   "cell_type": "code",
   "execution_count": 50,
   "metadata": {},
   "outputs": [
    {
     "name": "stdout",
     "output_type": "stream",
     "text": [
      "Model: \"sequential_1\"\n",
      "_________________________________________________________________\n",
      " Layer (type)                Output Shape              Param #   \n",
      "=================================================================\n",
      " lstm_3 (LSTM)               (None, 50, 512)           1052672   \n",
      "                                                                 \n",
      " dropout_3 (Dropout)         (None, 50, 512)           0         \n",
      "                                                                 \n",
      " lstm_4 (LSTM)               (None, 50, 256)           787456    \n",
      "                                                                 \n",
      " dropout_4 (Dropout)         (None, 50, 256)           0         \n",
      "                                                                 \n",
      " lstm_5 (LSTM)               (None, 64)                82176     \n",
      "                                                                 \n",
      " dropout_5 (Dropout)         (None, 64)                0         \n",
      "                                                                 \n",
      " dense_1 (Dense)             (None, 1)                 65        \n",
      "                                                                 \n",
      "=================================================================\n",
      "Total params: 1,922,369\n",
      "Trainable params: 1,922,369\n",
      "Non-trainable params: 0\n",
      "_________________________________________________________________\n"
     ]
    }
   ],
   "source": [
    "model.summary() # None is batch size as we have not specified"
   ]
  },
  {
   "cell_type": "code",
   "execution_count": 51,
   "metadata": {},
   "outputs": [],
   "source": [
    "# Specifying Loss and Optimizer\n",
    "model.compile(loss = 'mean_squared_error', optimizer = 'adam') # Numerical Problem"
   ]
  },
  {
   "cell_type": "markdown",
   "metadata": {},
   "source": [
    "Training the Model"
   ]
  },
  {
   "cell_type": "code",
   "execution_count": 52,
   "metadata": {},
   "outputs": [
    {
     "name": "stdout",
     "output_type": "stream",
     "text": [
      "Epoch 1/50\n",
      "26/26 [==============================] - 9s 33ms/step - loss: 0.0549\n",
      "Epoch 2/50\n",
      "26/26 [==============================] - 1s 34ms/step - loss: 0.0067\n",
      "Epoch 3/50\n",
      "26/26 [==============================] - 3s 126ms/step - loss: 0.0049\n",
      "Epoch 4/50\n",
      "26/26 [==============================] - 3s 110ms/step - loss: 0.0041\n",
      "Epoch 5/50\n",
      "26/26 [==============================] - 3s 137ms/step - loss: 0.0041\n",
      "Epoch 6/50\n",
      "26/26 [==============================] - 3s 130ms/step - loss: 0.0038\n",
      "Epoch 7/50\n",
      "26/26 [==============================] - 3s 128ms/step - loss: 0.0037\n",
      "Epoch 8/50\n",
      "26/26 [==============================] - 1s 38ms/step - loss: 0.0034\n",
      "Epoch 9/50\n",
      "26/26 [==============================] - 3s 134ms/step - loss: 0.0037\n",
      "Epoch 10/50\n",
      "26/26 [==============================] - 3s 130ms/step - loss: 0.0030\n",
      "Epoch 11/50\n",
      "26/26 [==============================] - 4s 163ms/step - loss: 0.0033\n",
      "Epoch 12/50\n",
      "26/26 [==============================] - 5s 207ms/step - loss: 0.0037\n",
      "Epoch 13/50\n",
      "26/26 [==============================] - 4s 172ms/step - loss: 0.0032\n",
      "Epoch 14/50\n",
      "26/26 [==============================] - 3s 122ms/step - loss: 0.0030\n",
      "Epoch 15/50\n",
      "26/26 [==============================] - 3s 133ms/step - loss: 0.0031\n",
      "Epoch 16/50\n",
      "26/26 [==============================] - 4s 144ms/step - loss: 0.0029\n",
      "Epoch 17/50\n",
      "26/26 [==============================] - 4s 170ms/step - loss: 0.0027\n",
      "Epoch 18/50\n",
      "26/26 [==============================] - 1s 36ms/step - loss: 0.0031\n",
      "Epoch 19/50\n",
      "26/26 [==============================] - 1s 43ms/step - loss: 0.0027\n",
      "Epoch 20/50\n",
      "26/26 [==============================] - 1s 33ms/step - loss: 0.0028\n",
      "Epoch 21/50\n",
      "26/26 [==============================] - 4s 147ms/step - loss: 0.0024\n",
      "Epoch 22/50\n",
      "26/26 [==============================] - 3s 134ms/step - loss: 0.0029\n",
      "Epoch 23/50\n",
      "26/26 [==============================] - 3s 116ms/step - loss: 0.0028\n",
      "Epoch 24/50\n",
      "26/26 [==============================] - 1s 38ms/step - loss: 0.0026\n",
      "Epoch 25/50\n",
      "26/26 [==============================] - 4s 146ms/step - loss: 0.0029\n",
      "Epoch 26/50\n",
      "26/26 [==============================] - 3s 133ms/step - loss: 0.0031\n",
      "Epoch 27/50\n",
      "26/26 [==============================] - 3s 137ms/step - loss: 0.0029\n",
      "Epoch 28/50\n",
      "26/26 [==============================] - 3s 134ms/step - loss: 0.0026\n",
      "Epoch 29/50\n",
      "26/26 [==============================] - 4s 155ms/step - loss: 0.0026\n",
      "Epoch 30/50\n",
      "26/26 [==============================] - 1s 31ms/step - loss: 0.0027\n",
      "Epoch 31/50\n",
      "26/26 [==============================] - 1s 31ms/step - loss: 0.0027\n",
      "Epoch 32/50\n",
      "26/26 [==============================] - 1s 30ms/step - loss: 0.0024\n",
      "Epoch 33/50\n",
      "26/26 [==============================] - 1s 40ms/step - loss: 0.0026\n",
      "Epoch 34/50\n",
      "26/26 [==============================] - 1s 29ms/step - loss: 0.0023\n",
      "Epoch 35/50\n",
      "26/26 [==============================] - 1s 30ms/step - loss: 0.0024\n",
      "Epoch 36/50\n",
      "26/26 [==============================] - 1s 30ms/step - loss: 0.0022\n",
      "Epoch 37/50\n",
      "26/26 [==============================] - 1s 29ms/step - loss: 0.0025\n",
      "Epoch 38/50\n",
      "26/26 [==============================] - 1s 31ms/step - loss: 0.0030\n",
      "Epoch 39/50\n",
      "26/26 [==============================] - 1s 29ms/step - loss: 0.0028\n",
      "Epoch 40/50\n",
      "26/26 [==============================] - 1s 28ms/step - loss: 0.0023\n",
      "Epoch 41/50\n",
      "26/26 [==============================] - 1s 27ms/step - loss: 0.0027\n",
      "Epoch 42/50\n",
      "26/26 [==============================] - 1s 28ms/step - loss: 0.0024\n",
      "Epoch 43/50\n",
      "26/26 [==============================] - 1s 31ms/step - loss: 0.0020\n",
      "Epoch 44/50\n",
      "26/26 [==============================] - 1s 28ms/step - loss: 0.0018\n",
      "Epoch 45/50\n",
      "26/26 [==============================] - 1s 30ms/step - loss: 0.0020\n",
      "Epoch 46/50\n",
      "26/26 [==============================] - 1s 27ms/step - loss: 0.0021\n",
      "Epoch 47/50\n",
      "26/26 [==============================] - 1s 29ms/step - loss: 0.0020\n",
      "Epoch 48/50\n",
      "26/26 [==============================] - 1s 29ms/step - loss: 0.0022\n",
      "Epoch 49/50\n",
      "26/26 [==============================] - 1s 27ms/step - loss: 0.0020\n",
      "Epoch 50/50\n",
      "26/26 [==============================] - 1s 28ms/step - loss: 0.0024\n"
     ]
    }
   ],
   "source": [
    "# Training the Model\n",
    "#if (not os.path.exists(r'C:\\Users\\steve\\Documents\\AlgoTrading\\(LSTM)Neural Networks for Sentiment and Stock Price Prediction\\models\\stock_predictor.h5')):\n",
    "    #history = model.fit(x_train, y_train, epochs=50, batch_size=32)\n",
    "    #model.save(r'C:\\Users\\steve\\Documents\\AlgoTrading\\(LSTM)Neural Networks for Sentiment and Stock Price Prediction\\models\\stock_predictor.h5')\n",
    "history = model.fit(x_train, y_train, epochs=50, batch_size=32)\n",
    "model.save(r'C:\\Users\\steve\\Documents\\AlgoTrading\\(LSTM)Neural Networks for Sentiment and Stock Price Prediction\\models\\stock_predictor.h5')\n",
    "    "
   ]
  },
  {
   "cell_type": "code",
   "execution_count": 53,
   "metadata": {},
   "outputs": [],
   "source": [
    "# Loading the Model\n",
    "model = load_model(r'C:\\Users\\steve\\Documents\\AlgoTrading\\(LSTM)Neural Networks for Sentiment and Stock Price Prediction\\models\\stock_predictor.h5')"
   ]
  },
  {
   "cell_type": "markdown",
   "metadata": {},
   "source": [
    "Making Predictions"
   ]
  },
  {
   "cell_type": "code",
   "execution_count": 54,
   "metadata": {},
   "outputs": [
    {
     "name": "stdout",
     "output_type": "stream",
     "text": [
      "12/12 [==============================] - 2s 26ms/step\n"
     ]
    },
    {
     "data": {
      "text/plain": [
       "array([[107.44337 ],\n",
       "       [107.94614 ],\n",
       "       [108.576324],\n",
       "       [109.15972 ],\n",
       "       [109.4786  ],\n",
       "       [109.57151 ],\n",
       "       [109.72425 ],\n",
       "       [109.91052 ],\n",
       "       [110.10551 ],\n",
       "       [110.20919 ],\n",
       "       [110.22532 ],\n",
       "       [110.151146],\n",
       "       [110.03014 ],\n",
       "       [109.75474 ],\n",
       "       [109.39569 ],\n",
       "       [108.95173 ],\n",
       "       [108.41077 ],\n",
       "       [107.86503 ],\n",
       "       [107.486046],\n",
       "       [107.52644 ],\n",
       "       [107.92933 ],\n",
       "       [108.47714 ],\n",
       "       [108.89291 ],\n",
       "       [108.733696],\n",
       "       [107.84349 ],\n",
       "       [107.219154],\n",
       "       [107.31171 ],\n",
       "       [108.677574],\n",
       "       [110.990265],\n",
       "       [113.46656 ],\n",
       "       [115.14191 ],\n",
       "       [115.89992 ],\n",
       "       [116.01388 ],\n",
       "       [115.80595 ],\n",
       "       [115.14431 ],\n",
       "       [114.44535 ],\n",
       "       [114.03307 ],\n",
       "       [113.884026],\n",
       "       [113.82011 ],\n",
       "       [113.800606],\n",
       "       [113.84887 ],\n",
       "       [113.99006 ],\n",
       "       [114.22141 ],\n",
       "       [114.56129 ],\n",
       "       [115.02396 ],\n",
       "       [115.8706  ],\n",
       "       [116.86027 ],\n",
       "       [117.6471  ],\n",
       "       [118.24036 ],\n",
       "       [118.54974 ],\n",
       "       [118.73226 ],\n",
       "       [118.72416 ],\n",
       "       [118.52904 ],\n",
       "       [118.23965 ],\n",
       "       [118.00124 ],\n",
       "       [117.99004 ],\n",
       "       [117.6707  ],\n",
       "       [117.2072  ],\n",
       "       [116.55604 ],\n",
       "       [115.84773 ],\n",
       "       [115.220474],\n",
       "       [114.49722 ],\n",
       "       [113.71372 ],\n",
       "       [112.68433 ],\n",
       "       [111.80721 ],\n",
       "       [111.2974  ],\n",
       "       [111.100586],\n",
       "       [111.27527 ],\n",
       "       [111.13558 ],\n",
       "       [110.69793 ],\n",
       "       [109.98355 ],\n",
       "       [109.22458 ],\n",
       "       [109.029076],\n",
       "       [109.3846  ],\n",
       "       [110.08526 ],\n",
       "       [111.081184],\n",
       "       [112.018105],\n",
       "       [112.64506 ],\n",
       "       [112.95233 ],\n",
       "       [112.92372 ],\n",
       "       [112.796814],\n",
       "       [112.52681 ],\n",
       "       [112.03171 ],\n",
       "       [111.55226 ],\n",
       "       [111.15241 ],\n",
       "       [110.848045],\n",
       "       [110.86724 ],\n",
       "       [111.35039 ],\n",
       "       [112.232025],\n",
       "       [113.29142 ],\n",
       "       [114.406105],\n",
       "       [115.40214 ],\n",
       "       [116.27889 ],\n",
       "       [116.85927 ],\n",
       "       [117.250145],\n",
       "       [117.50261 ],\n",
       "       [117.58523 ],\n",
       "       [117.435936],\n",
       "       [117.27461 ],\n",
       "       [117.3301  ],\n",
       "       [117.43297 ],\n",
       "       [117.53184 ],\n",
       "       [117.480316],\n",
       "       [117.31069 ],\n",
       "       [117.11336 ],\n",
       "       [117.07574 ],\n",
       "       [117.36115 ],\n",
       "       [117.96858 ],\n",
       "       [118.68278 ],\n",
       "       [119.31635 ],\n",
       "       [119.7808  ],\n",
       "       [119.93913 ],\n",
       "       [120.07865 ],\n",
       "       [120.18262 ],\n",
       "       [120.39448 ],\n",
       "       [120.61717 ],\n",
       "       [120.72372 ],\n",
       "       [120.82685 ],\n",
       "       [121.11851 ],\n",
       "       [121.6058  ],\n",
       "       [121.97503 ],\n",
       "       [122.1587  ],\n",
       "       [123.00709 ],\n",
       "       [124.514336],\n",
       "       [126.25413 ],\n",
       "       [127.86245 ],\n",
       "       [129.23714 ],\n",
       "       [130.34163 ],\n",
       "       [131.14331 ],\n",
       "       [131.74373 ],\n",
       "       [132.24338 ],\n",
       "       [132.68704 ],\n",
       "       [133.33774 ],\n",
       "       [134.10359 ],\n",
       "       [134.7143  ],\n",
       "       [135.22723 ],\n",
       "       [135.6419  ],\n",
       "       [136.07498 ],\n",
       "       [136.26765 ],\n",
       "       [136.40161 ],\n",
       "       [136.51492 ],\n",
       "       [136.7326  ],\n",
       "       [137.3247  ],\n",
       "       [137.94261 ],\n",
       "       [138.47818 ],\n",
       "       [138.79971 ],\n",
       "       [138.89122 ],\n",
       "       [138.79474 ],\n",
       "       [138.68828 ],\n",
       "       [138.58168 ],\n",
       "       [138.56488 ],\n",
       "       [138.6449  ],\n",
       "       [138.96828 ],\n",
       "       [139.46696 ],\n",
       "       [139.88777 ],\n",
       "       [140.38176 ],\n",
       "       [140.53867 ],\n",
       "       [140.57687 ],\n",
       "       [140.62183 ],\n",
       "       [140.38782 ],\n",
       "       [140.1781  ],\n",
       "       [140.49927 ],\n",
       "       [141.3012  ],\n",
       "       [142.18684 ],\n",
       "       [142.87146 ],\n",
       "       [143.17474 ],\n",
       "       [143.29608 ],\n",
       "       [143.34738 ],\n",
       "       [143.29686 ],\n",
       "       [143.16711 ],\n",
       "       [142.91637 ],\n",
       "       [142.42441 ],\n",
       "       [141.8838  ],\n",
       "       [141.38579 ],\n",
       "       [141.01276 ],\n",
       "       [140.86938 ],\n",
       "       [140.81947 ],\n",
       "       [140.98381 ],\n",
       "       [141.43813 ],\n",
       "       [142.07738 ],\n",
       "       [142.78197 ],\n",
       "       [143.29538 ],\n",
       "       [143.56747 ],\n",
       "       [143.78358 ],\n",
       "       [144.34164 ],\n",
       "       [144.82137 ],\n",
       "       [145.21367 ],\n",
       "       [145.51118 ],\n",
       "       [146.04192 ],\n",
       "       [147.43979 ],\n",
       "       [149.25008 ],\n",
       "       [150.71327 ],\n",
       "       [151.86734 ],\n",
       "       [152.83603 ],\n",
       "       [153.54944 ],\n",
       "       [153.61389 ],\n",
       "       [152.8305  ],\n",
       "       [151.94392 ],\n",
       "       [151.41321 ],\n",
       "       [151.44899 ],\n",
       "       [151.71466 ],\n",
       "       [151.97849 ],\n",
       "       [152.17755 ],\n",
       "       [152.20078 ],\n",
       "       [152.17728 ],\n",
       "       [152.04039 ],\n",
       "       [151.91142 ],\n",
       "       [151.95418 ],\n",
       "       [152.06705 ],\n",
       "       [152.35301 ],\n",
       "       [152.75082 ],\n",
       "       [153.12535 ],\n",
       "       [151.94633 ],\n",
       "       [149.90517 ],\n",
       "       [147.87651 ],\n",
       "       [145.79665 ],\n",
       "       [144.10182 ],\n",
       "       [143.00389 ],\n",
       "       [142.98688 ],\n",
       "       [143.55327 ],\n",
       "       [144.3002  ],\n",
       "       [144.82649 ],\n",
       "       [145.33557 ],\n",
       "       [145.47134 ],\n",
       "       [145.19951 ],\n",
       "       [144.74344 ],\n",
       "       [144.26451 ],\n",
       "       [143.95525 ],\n",
       "       [143.66759 ],\n",
       "       [143.303   ],\n",
       "       [142.9041  ],\n",
       "       [142.7383  ],\n",
       "       [142.90103 ],\n",
       "       [143.4345  ],\n",
       "       [144.05876 ],\n",
       "       [144.93481 ],\n",
       "       [145.97939 ],\n",
       "       [146.98969 ],\n",
       "       [147.95044 ],\n",
       "       [148.86531 ],\n",
       "       [149.36662 ],\n",
       "       [149.53455 ],\n",
       "       [149.67052 ],\n",
       "       [150.07372 ],\n",
       "       [150.70589 ],\n",
       "       [150.77124 ],\n",
       "       [150.29686 ],\n",
       "       [150.66226 ],\n",
       "       [152.14944 ],\n",
       "       [153.80396 ],\n",
       "       [154.8897  ],\n",
       "       [155.40811 ],\n",
       "       [155.72804 ],\n",
       "       [156.0675  ],\n",
       "       [156.51811 ],\n",
       "       [156.4687  ],\n",
       "       [156.41005 ],\n",
       "       [156.66403 ],\n",
       "       [157.34526 ],\n",
       "       [157.97322 ],\n",
       "       [157.93669 ],\n",
       "       [157.30998 ],\n",
       "       [156.56409 ],\n",
       "       [156.12091 ],\n",
       "       [156.2553  ],\n",
       "       [156.66214 ],\n",
       "       [157.16917 ],\n",
       "       [157.59431 ],\n",
       "       [158.42859 ],\n",
       "       [159.44641 ],\n",
       "       [160.53323 ],\n",
       "       [161.26991 ],\n",
       "       [161.40724 ],\n",
       "       [161.00513 ],\n",
       "       [160.17348 ],\n",
       "       [159.20512 ],\n",
       "       [158.72073 ],\n",
       "       [158.33086 ],\n",
       "       [157.85298 ],\n",
       "       [157.27641 ],\n",
       "       [156.99219 ],\n",
       "       [156.93318 ],\n",
       "       [156.76562 ],\n",
       "       [156.16266 ],\n",
       "       [154.74782 ],\n",
       "       [152.69778 ],\n",
       "       [150.92499 ],\n",
       "       [150.1445  ],\n",
       "       [150.29832 ],\n",
       "       [150.88098 ],\n",
       "       [151.65436 ],\n",
       "       [152.30362 ],\n",
       "       [152.63216 ],\n",
       "       [152.74678 ],\n",
       "       [152.85707 ],\n",
       "       [153.12448 ],\n",
       "       [153.51552 ],\n",
       "       [153.88951 ],\n",
       "       [154.20822 ],\n",
       "       [154.48222 ],\n",
       "       [154.86221 ],\n",
       "       [155.56407 ],\n",
       "       [156.48654 ],\n",
       "       [156.78738 ],\n",
       "       [156.44731 ],\n",
       "       [155.80843 ],\n",
       "       [155.0916  ],\n",
       "       [154.60701 ],\n",
       "       [154.46996 ],\n",
       "       [154.91386 ],\n",
       "       [156.39809 ],\n",
       "       [158.98541 ],\n",
       "       [162.1019  ],\n",
       "       [164.47595 ],\n",
       "       [166.69382 ],\n",
       "       [168.25766 ],\n",
       "       [169.30202 ],\n",
       "       [169.98436 ],\n",
       "       [170.43219 ],\n",
       "       [170.68497 ],\n",
       "       [170.52606 ],\n",
       "       [170.03505 ],\n",
       "       [168.96548 ],\n",
       "       [167.89737 ],\n",
       "       [167.12564 ],\n",
       "       [166.63292 ],\n",
       "       [166.47949 ],\n",
       "       [166.98013 ],\n",
       "       [168.12758 ],\n",
       "       [169.4458  ],\n",
       "       [170.39844 ],\n",
       "       [170.57074 ],\n",
       "       [169.80992 ],\n",
       "       [168.53001 ],\n",
       "       [167.66429 ],\n",
       "       [166.86928 ],\n",
       "       [165.95963 ],\n",
       "       [165.33733 ],\n",
       "       [165.31145 ],\n",
       "       [165.51884 ],\n",
       "       [166.22142 ],\n",
       "       [167.19423 ],\n",
       "       [168.08925 ],\n",
       "       [168.88939 ],\n",
       "       [169.67442 ],\n",
       "       [170.34554 ],\n",
       "       [170.77812 ],\n",
       "       [170.84688 ],\n",
       "       [170.73892 ],\n",
       "       [169.96475 ],\n",
       "       [168.73268 ],\n",
       "       [167.63202 ],\n",
       "       [166.86526 ],\n",
       "       [166.43657 ],\n",
       "       [166.66583 ],\n",
       "       [167.31436 ],\n",
       "       [168.1906  ],\n",
       "       [169.13919 ],\n",
       "       [169.95099 ],\n",
       "       [170.26381 ],\n",
       "       [170.37381 ],\n",
       "       [170.65309 ],\n",
       "       [171.33965 ],\n",
       "       [171.91156 ],\n",
       "       [172.71596 ],\n",
       "       [173.44128 ],\n",
       "       [173.71411 ],\n",
       "       [173.58629 ],\n",
       "       [173.24342 ],\n",
       "       [172.44121 ],\n",
       "       [171.07626 ],\n",
       "       [169.31761 ],\n",
       "       [166.9577  ],\n",
       "       [164.84584 ],\n",
       "       [163.4877  ],\n",
       "       [162.7734  ],\n",
       "       [161.48433 ],\n",
       "       [159.1606  ]], dtype=float32)"
      ]
     },
     "execution_count": 54,
     "metadata": {},
     "output_type": "execute_result"
    }
   ],
   "source": [
    "# Predictions\n",
    "predictions = model.predict(x_test)\n",
    "#predictions\n",
    "# Inverse the Scaling to get original prices\n",
    "predictions = scaler.inverse_transform(predictions)\n",
    "predictions"
   ]
  },
  {
   "cell_type": "markdown",
   "metadata": {},
   "source": [
    "Making Plots"
   ]
  },
  {
   "cell_type": "code",
   "execution_count": 55,
   "metadata": {},
   "outputs": [
    {
     "name": "stdout",
     "output_type": "stream",
     "text": [
      "range(881, 1259)\n"
     ]
    },
    {
     "data": {
      "image/png": "[encoded data removed]",
      "text/plain": [
       "<Figure size 800x400 with 1 Axes>"
      ]
     },
     "metadata": {},
     "output_type": "display_data"
    }
   ],
   "source": [
    "fig,ax = plt.subplots(figsize=(8,4))\n",
    "plt.plot(stock_data, color = 'red', label = 'Original_StockPrice')\n",
    "ax.plot(range(len(y_train)+ 50, len(y_train)+50+len(predictions)), predictions, color = 'blue', label = 'Predictions')\n",
    "plt.legend()\n",
    "print(range(len(y_train)+ 50, len(y_train)+ 50 + len(predictions)))"
   ]
  },
  {
   "cell_type": "code",
   "execution_count": 56,
   "metadata": {},
   "outputs": [
    {
     "data": {
      "text/plain": [
       "<matplotlib.legend.Legend at 0x24ac32d2700>"
      ]
     },
     "execution_count": 56,
     "metadata": {},
     "output_type": "execute_result"
    },
    {
     "data": {
      "image/png": "[encoded data removed]",
      "text/plain": [
       "<Figure size 800x400 with 1 Axes>"
      ]
     },
     "metadata": {},
     "output_type": "display_data"
    }
   ],
   "source": [
    "# Getting the Predictions Snapshot\n",
    "y_test_scaled = scaler.inverse_transform(y_test.reshape(-1, 1)) # Reshape needs 2 dimensions\n",
    "fig,ax = plt.subplots(figsize=(8,4))\n",
    "ax.plot(y_test_scaled, color = 'red', label = 'True Open Prices')\n",
    "plt.plot(predictions, color = 'blue', label = 'Predictions')\n",
    "plt.legend()"
   ]
  }
 ],
 "metadata": {
  "kernelspec": {
   "display_name": "base",
   "language": "python",
   "name": "python3"
  },
  "language_info": {
   "codemirror_mode": {
    "name": "ipython",
    "version": 3
   },
   "file_extension": ".py",
   "mimetype": "text/x-python",
   "name": "python",
   "nbconvert_exporter": "python",
   "pygments_lexer": "ipython3",
   "version": "3.9.13"
  },
  "orig_nbformat": 4,
  "vscode": {
   "interpreter": {
    "hash": "70f3c9c5f530effdc6a80dbad78b3cafea2afa458216aedd385384b265543c30"
   }
  }
 },
 "nbformat": 4,
 "nbformat_minor": 2
}
